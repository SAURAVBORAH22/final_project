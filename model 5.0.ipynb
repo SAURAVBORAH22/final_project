{
 "cells": [
  {
   "cell_type": "code",
   "execution_count": 1,
   "metadata": {},
   "outputs": [],
   "source": [
    "import pandas as pd\n",
    "import numpy as np\n",
    "from sklearn.feature_extraction.text import TfidfVectorizer\n",
    "from sklearn.naive_bayes import BernoulliNB\n",
    "from sklearn.linear_model import LogisticRegression\n",
    "from sklearn.ensemble import RandomForestClassifier\n",
    "from sklearn.metrics import log_loss,confusion_matrix,classification_report,roc_curve,auc"
   ]
  },
  {
   "cell_type": "code",
   "execution_count": 2,
   "metadata": {},
   "outputs": [],
   "source": [
    "train = pd.read_csv('train.csv')\n",
    "test=pd.read_csv('testing.csv')\n",
    "target_col = ['toxic', 'severe_toxic', 'obscene', 'threat','insult', 'identity_hate']\n"
   ]
  },
  {
   "cell_type": "code",
   "execution_count": 3,
   "metadata": {},
   "outputs": [],
   "source": [
    "v = TfidfVectorizer()"
   ]
  },
  {
   "cell_type": "code",
   "execution_count": 4,
   "metadata": {},
   "outputs": [
    {
     "data": {
      "text/plain": [
       "<100x189775 sparse matrix of type '<class 'numpy.float64'>'\n",
       "\twith 3779 stored elements in Compressed Sparse Row format>"
      ]
     },
     "execution_count": 4,
     "metadata": {},
     "output_type": "execute_result"
    }
   ],
   "source": [
    "X_train = v.fit_transform(train['comment_text'])\n",
    "X_test = v.transform(test['comment_text'])\n",
    "X_test\n"
   ]
  },
  {
   "cell_type": "code",
   "execution_count": 5,
   "metadata": {},
   "outputs": [],
   "source": [
    "\n",
    "model=[]\n",
    "def sed(inp=\"fuck you asshole\"):\n",
    "    df = pd.DataFrame()\n",
    "    df = df.append({\"toxic\":1},ignore_index = True)\n",
    "    df\n",
    "    i=0\n",
    "    for label in ['toxic', 'severe_toxic', 'obscene', 'threat', 'insult', 'identity_hate']:\n",
    "        y = train[label]\n",
    "        model.append(LogisticRegression(solver='sag'))\n",
    "        model[i].fit(X_train, y)\n",
    "        test[label] = model[i].predict_proba(X_test)[:, 1]\n",
    "        df[label]=model[i].predict_proba(v.transform([inp]))[:, 1]\n",
    "        i=i+1\n",
    "    return df.values\n",
    "k=sed(\"Yo bitch Ja Rule is more succesful then you'll ever be whats up with you and hating you sad mofuckas...i should bitch slap ur pethedic white faces \")"
   ]
  },
  {
   "cell_type": "code",
   "execution_count": 6,
   "metadata": {},
   "outputs": [
    {
     "data": {
      "text/html": [
       "<div>\n",
       "<style scoped>\n",
       "    .dataframe tbody tr th:only-of-type {\n",
       "        vertical-align: middle;\n",
       "    }\n",
       "\n",
       "    .dataframe tbody tr th {\n",
       "        vertical-align: top;\n",
       "    }\n",
       "\n",
       "    .dataframe thead th {\n",
       "        text-align: right;\n",
       "    }\n",
       "</style>\n",
       "<table border=\"1\" class=\"dataframe\">\n",
       "  <thead>\n",
       "    <tr style=\"text-align: right;\">\n",
       "      <th></th>\n",
       "      <th>Unnamed: 0</th>\n",
       "      <th>id</th>\n",
       "      <th>comment_text</th>\n",
       "      <th>toxic</th>\n",
       "      <th>severe_toxic</th>\n",
       "      <th>obscene</th>\n",
       "      <th>threat</th>\n",
       "      <th>insult</th>\n",
       "      <th>identity_hate</th>\n",
       "    </tr>\n",
       "  </thead>\n",
       "  <tbody>\n",
       "    <tr>\n",
       "      <th>0</th>\n",
       "      <td>0</td>\n",
       "      <td>00001cee341fdb12</td>\n",
       "      <td>Yo bitch Ja Rule is more succesful then you'll...</td>\n",
       "      <td>0.998338</td>\n",
       "      <td>0.180625</td>\n",
       "      <td>0.994830</td>\n",
       "      <td>0.046665</td>\n",
       "      <td>0.961528</td>\n",
       "      <td>0.282610</td>\n",
       "    </tr>\n",
       "    <tr>\n",
       "      <th>1</th>\n",
       "      <td>1</td>\n",
       "      <td>0000247867823ef7</td>\n",
       "      <td>== From RfC == \\n\\n The title is fine as it is...</td>\n",
       "      <td>0.006603</td>\n",
       "      <td>0.001559</td>\n",
       "      <td>0.004004</td>\n",
       "      <td>0.000423</td>\n",
       "      <td>0.005722</td>\n",
       "      <td>0.003052</td>\n",
       "    </tr>\n",
       "    <tr>\n",
       "      <th>2</th>\n",
       "      <td>2</td>\n",
       "      <td>00013b17ad220c46</td>\n",
       "      <td>\" \\n\\n == Sources == \\n\\n * Zawe Ashton on Lap...</td>\n",
       "      <td>0.042323</td>\n",
       "      <td>0.006283</td>\n",
       "      <td>0.020711</td>\n",
       "      <td>0.001879</td>\n",
       "      <td>0.023333</td>\n",
       "      <td>0.006021</td>\n",
       "    </tr>\n",
       "    <tr>\n",
       "      <th>3</th>\n",
       "      <td>3</td>\n",
       "      <td>00017563c3f7919a</td>\n",
       "      <td>:If you have a look back at the source, the in...</td>\n",
       "      <td>0.003177</td>\n",
       "      <td>0.001640</td>\n",
       "      <td>0.003103</td>\n",
       "      <td>0.001037</td>\n",
       "      <td>0.003710</td>\n",
       "      <td>0.000932</td>\n",
       "    </tr>\n",
       "    <tr>\n",
       "      <th>4</th>\n",
       "      <td>4</td>\n",
       "      <td>00017695ad8997eb</td>\n",
       "      <td>I don't anonymously edit articles at all.</td>\n",
       "      <td>0.034340</td>\n",
       "      <td>0.003960</td>\n",
       "      <td>0.011136</td>\n",
       "      <td>0.001650</td>\n",
       "      <td>0.011539</td>\n",
       "      <td>0.003559</td>\n",
       "    </tr>\n",
       "    <tr>\n",
       "      <th>5</th>\n",
       "      <td>5</td>\n",
       "      <td>0001ea8717f6de06</td>\n",
       "      <td>Thank you for understanding. I think very high...</td>\n",
       "      <td>0.007496</td>\n",
       "      <td>0.001818</td>\n",
       "      <td>0.004079</td>\n",
       "      <td>0.002128</td>\n",
       "      <td>0.008214</td>\n",
       "      <td>0.002092</td>\n",
       "    </tr>\n",
       "    <tr>\n",
       "      <th>6</th>\n",
       "      <td>6</td>\n",
       "      <td>00024115d4cbde0f</td>\n",
       "      <td>Please do not add nonsense to Wikipedia. Such ...</td>\n",
       "      <td>0.004514</td>\n",
       "      <td>0.000810</td>\n",
       "      <td>0.004056</td>\n",
       "      <td>0.000593</td>\n",
       "      <td>0.004356</td>\n",
       "      <td>0.001309</td>\n",
       "    </tr>\n",
       "    <tr>\n",
       "      <th>7</th>\n",
       "      <td>7</td>\n",
       "      <td>000247e83dcc1211</td>\n",
       "      <td>:Dear god this site is horrible.</td>\n",
       "      <td>0.476601</td>\n",
       "      <td>0.005281</td>\n",
       "      <td>0.051993</td>\n",
       "      <td>0.002139</td>\n",
       "      <td>0.093019</td>\n",
       "      <td>0.007753</td>\n",
       "    </tr>\n",
       "    <tr>\n",
       "      <th>8</th>\n",
       "      <td>8</td>\n",
       "      <td>00025358d4737918</td>\n",
       "      <td>\" \\n Only a fool can believe in such numbers. ...</td>\n",
       "      <td>0.010329</td>\n",
       "      <td>0.001544</td>\n",
       "      <td>0.008374</td>\n",
       "      <td>0.000929</td>\n",
       "      <td>0.005574</td>\n",
       "      <td>0.002345</td>\n",
       "    </tr>\n",
       "    <tr>\n",
       "      <th>9</th>\n",
       "      <td>9</td>\n",
       "      <td>00026d1092fe71cc</td>\n",
       "      <td>== Double Redirects == \\n\\n When fixing double...</td>\n",
       "      <td>0.005264</td>\n",
       "      <td>0.000882</td>\n",
       "      <td>0.005191</td>\n",
       "      <td>0.000827</td>\n",
       "      <td>0.005283</td>\n",
       "      <td>0.001262</td>\n",
       "    </tr>\n",
       "    <tr>\n",
       "      <th>10</th>\n",
       "      <td>10</td>\n",
       "      <td>0002eadc3b301559</td>\n",
       "      <td>I think its crap that the link to roggenbier i...</td>\n",
       "      <td>0.175288</td>\n",
       "      <td>0.000378</td>\n",
       "      <td>0.058233</td>\n",
       "      <td>0.000333</td>\n",
       "      <td>0.006487</td>\n",
       "      <td>0.001791</td>\n",
       "    </tr>\n",
       "  </tbody>\n",
       "</table>\n",
       "</div>"
      ],
      "text/plain": [
       "    Unnamed: 0                id  \\\n",
       "0            0  00001cee341fdb12   \n",
       "1            1  0000247867823ef7   \n",
       "2            2  00013b17ad220c46   \n",
       "3            3  00017563c3f7919a   \n",
       "4            4  00017695ad8997eb   \n",
       "5            5  0001ea8717f6de06   \n",
       "6            6  00024115d4cbde0f   \n",
       "7            7  000247e83dcc1211   \n",
       "8            8  00025358d4737918   \n",
       "9            9  00026d1092fe71cc   \n",
       "10          10  0002eadc3b301559   \n",
       "\n",
       "                                         comment_text     toxic  severe_toxic  \\\n",
       "0   Yo bitch Ja Rule is more succesful then you'll...  0.998338      0.180625   \n",
       "1   == From RfC == \\n\\n The title is fine as it is...  0.006603      0.001559   \n",
       "2   \" \\n\\n == Sources == \\n\\n * Zawe Ashton on Lap...  0.042323      0.006283   \n",
       "3   :If you have a look back at the source, the in...  0.003177      0.001640   \n",
       "4           I don't anonymously edit articles at all.  0.034340      0.003960   \n",
       "5   Thank you for understanding. I think very high...  0.007496      0.001818   \n",
       "6   Please do not add nonsense to Wikipedia. Such ...  0.004514      0.000810   \n",
       "7                    :Dear god this site is horrible.  0.476601      0.005281   \n",
       "8   \" \\n Only a fool can believe in such numbers. ...  0.010329      0.001544   \n",
       "9   == Double Redirects == \\n\\n When fixing double...  0.005264      0.000882   \n",
       "10  I think its crap that the link to roggenbier i...  0.175288      0.000378   \n",
       "\n",
       "     obscene    threat    insult  identity_hate  \n",
       "0   0.994830  0.046665  0.961528       0.282610  \n",
       "1   0.004004  0.000423  0.005722       0.003052  \n",
       "2   0.020711  0.001879  0.023333       0.006021  \n",
       "3   0.003103  0.001037  0.003710       0.000932  \n",
       "4   0.011136  0.001650  0.011539       0.003559  \n",
       "5   0.004079  0.002128  0.008214       0.002092  \n",
       "6   0.004056  0.000593  0.004356       0.001309  \n",
       "7   0.051993  0.002139  0.093019       0.007753  \n",
       "8   0.008374  0.000929  0.005574       0.002345  \n",
       "9   0.005191  0.000827  0.005283       0.001262  \n",
       "10  0.058233  0.000333  0.006487       0.001791  "
      ]
     },
     "execution_count": 6,
     "metadata": {},
     "output_type": "execute_result"
    }
   ],
   "source": [
    "y = train[target_col]\n",
    "test.head(11)"
   ]
  },
  {
   "cell_type": "code",
   "execution_count": 7,
   "metadata": {},
   "outputs": [
    {
     "data": {
      "text/plain": [
       "'for col in target_col:\\n  print(\"Column:\",col)\\n  pred_pro = model.predict_proba(X_train)[:,1]\\n  frp,trp,thres = roc_curve(y[col],pred_pro)\\n  auc_val =auc(frp,trp)\\n  print(auc_val)'"
      ]
     },
     "execution_count": 7,
     "metadata": {},
     "output_type": "execute_result"
    }
   ],
   "source": [
    "\n",
    "\"\"\"for col in target_col:\n",
    "  print(\"Column:\",col)\n",
    "  pred_pro = model.predict_proba(X_train)[:,1]\n",
    "  frp,trp,thres = roc_curve(y[col],pred_pro)\n",
    "  auc_val =auc(frp,trp)\n",
    "  print(auc_val)\"\"\""
   ]
  },
  {
   "cell_type": "code",
   "execution_count": 8,
   "metadata": {},
   "outputs": [
    {
     "data": {
      "text/plain": [
       "array([[0.99029015, 0.1196628 , 0.96723607, 0.04600583, 0.9481792 ,\n",
       "        0.18835909]])"
      ]
     },
     "execution_count": 8,
     "metadata": {},
     "output_type": "execute_result"
    }
   ],
   "source": [
    "k"
   ]
  },
  {
   "cell_type": "code",
   "execution_count": 9,
   "metadata": {},
   "outputs": [
    {
     "data": {
      "text/plain": [
       "\"prd_1 = pd.DataFrame(test,columns=target_col)\\nsubmit = pd.concat([test['id'],prd_1],axis=1)\\n#submit.to_csv('toxic_lr.csv.gz',compression='gzip',index=False)\\nsubmit.to_csv('toxic_lr.csv',index=False)\\nsubmit.head()\""
      ]
     },
     "execution_count": 9,
     "metadata": {},
     "output_type": "execute_result"
    }
   ],
   "source": [
    "\n",
    "\"\"\"prd_1 = pd.DataFrame(test,columns=target_col)\n",
    "submit = pd.concat([test['id'],prd_1],axis=1)\n",
    "#submit.to_csv('toxic_lr.csv.gz',compression='gzip',index=False)\n",
    "submit.to_csv('toxic_lr.csv',index=False)\n",
    "submit.head()\"\"\""
   ]
  },
  {
   "cell_type": "code",
   "execution_count": null,
   "metadata": {},
   "outputs": [],
   "source": []
  },
  {
   "cell_type": "code",
   "execution_count": 10,
   "metadata": {},
   "outputs": [],
   "source": [
    "lis=[]\n",
    "inp=\"fuck you asshole\"\n",
    "for i in range(6):\n",
    "    lis.append(model[i].predict_proba(v.transform([inp]))[:, 1])"
   ]
  },
  {
   "cell_type": "code",
   "execution_count": 11,
   "metadata": {},
   "outputs": [
    {
     "data": {
      "text/plain": [
       "[array([0.99999995]),\n",
       " array([0.93159643]),\n",
       " array([0.99999999]),\n",
       " array([0.0195166]),\n",
       " array([0.99991116]),\n",
       " array([0.05889025])]"
      ]
     },
     "execution_count": 11,
     "metadata": {},
     "output_type": "execute_result"
    }
   ],
   "source": [
    "lis"
   ]
  },
  {
   "cell_type": "code",
   "execution_count": 12,
   "metadata": {},
   "outputs": [],
   "source": [
    "import dill as pickle\n",
    "f=open(\"final_model.pkl\", \"wb\")\n",
    "pickle.dump(model,f)\n",
    "pickle.dump(v,f)\n"
   ]
  },
  {
   "cell_type": "code",
   "execution_count": null,
   "metadata": {},
   "outputs": [],
   "source": []
  }
 ],
 "metadata": {
  "kernelspec": {
   "display_name": "Python 3",
   "language": "python",
   "name": "python3"
  },
  "language_info": {
   "codemirror_mode": {
    "name": "ipython",
    "version": 3
   },
   "file_extension": ".py",
   "mimetype": "text/x-python",
   "name": "python",
   "nbconvert_exporter": "python",
   "pygments_lexer": "ipython3",
   "version": "3.7.1"
  }
 },
 "nbformat": 4,
 "nbformat_minor": 4
}
